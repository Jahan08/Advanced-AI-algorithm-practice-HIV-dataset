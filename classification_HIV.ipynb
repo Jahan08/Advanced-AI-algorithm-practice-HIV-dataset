{
 "cells": [
  {
   "cell_type": "code",
   "execution_count": null,
   "metadata": {},
   "outputs": [],
   "source": [
    "import deepchem as dc\n",
    "import numpy as np\n",
    "import os\n",
    "from my_tokenizers2 import SmilesTokenizer\n",
    "tokenizer = SmilesTokenizer(vocab_file ='mol2vec_vocabs.txt')\n",
    "\n",
    "from transformers import ElectraModel, ElectraConfig,ElectraForPreTraining,ElectraForMaskedLM\n",
    "emb_dim = 256\n",
    "output_dir=\"./fingerprints_smile_output256\"\n",
    "electra_model = ElectraForMaskedLM.from_pretrained(output_dir)"
   ]
  },
  {
   "cell_type": "code",
   "execution_count": null,
   "metadata": {},
   "outputs": [],
   "source": [
    "from deepchem.splits.splitters import ScaffoldSplitter\n",
    "splitter = ScaffoldSplitter()\n",
    "train_dataset, valid_dataset, test_dataset = dc.molnet.load_hiv(split='scaffold',reload=False)[1]\n",
    "print(len(train_dataset.X))\n",
    "print(len(valid_dataset))\n",
    "print(len(test_dataset))"
   ]
  },
  {
   "cell_type": "code",
   "execution_count": null,
   "metadata": {},
   "outputs": [],
   "source": [
    "#get subsets from indices\n",
    "from tqdm import tqdm\n",
    "train_x = []\n",
    "train_y = []\n",
    "valid_x = []\n",
    "valid_y = []\n",
    "test_x = []\n",
    "test_y = []\n",
    "hidden_dim, smilen = 256,256\n",
    "MAX_SMI_LEN = 256\n",
    "def trans(smi):\n",
    "    from rdkit import Chem\n",
    "    if isinstance(smi,str):\n",
    "        smi = Chem.MolFromSmiles(smi)\n",
    "    from mol2vec.features import mol2alt_sentence\n",
    "    sentence = mol2alt_sentence(smi,1)\n",
    "    sentence = ' '.join(map(str, sentence)) \n",
    "    input_ids = tokenizer(sentence, return_tensors=\"pt\")[\"input_ids\"]\n",
    "    if len(input_ids[0]) > MAX_SMI_LEN:\n",
    "        input_ids = input_ids[:, :MAX_SMI_LEN]\n",
    "        input_ids[:, 255:256] = 3 \n",
    "    outputs = electra_model(input_ids, labels=input_ids)\n",
    "    embX = outputs[2][0].detach().numpy()[0][1:-1]\n",
    "    newX = np.zeros((smilen, hidden_dim))\n",
    "    for i, x in enumerate(embX):\n",
    "        if(len(x) > smilen):\n",
    "            newX[i] = x[:smilen]\n",
    "        else:\n",
    "            newX[i,:len(x)] = x\n",
    "    return newX\n",
    "\n",
    "def trans_Y(label):\n",
    "    if label == 1:\n",
    "        target = [1,0]\n",
    "    elif label == 0:\n",
    "        target = [0,1]\n",
    "    return target\n",
    "\n",
    "for i in tqdm(range(len(train_dataset))):   \n",
    "    train_x.append(trans(train_dataset.ids[i]))\n",
    "    train_y.append(trans_Y(train_dataset.y[i]))\n",
    "\n",
    "for i in tqdm(range(len(valid_dataset))):\n",
    "    valid_x.append(trans(valid_dataset.ids[i]))\n",
    "    valid_y.append(trans_Y(valid_dataset.y[i]))\n",
    "    \n",
    "for i in tqdm(range(len(test_dataset))):\n",
    "    test_x.append(trans(test_dataset.ids[i]))\n",
    "    test_y.append(trans_Y(test_dataset.y[i]))\n"
   ]
  },
  {
   "cell_type": "code",
   "execution_count": null,
   "metadata": {},
   "outputs": [],
   "source": [
    "train_x = np.array(train_x)\n",
    "train_y = np.array(train_y)\n",
    "valid_x = np.array(valid_x)\n",
    "valid_y = np.array(valid_y)\n",
    "test_x = np.array(test_x)\n",
    "test_y = np.array(test_y)\n",
    "np.save(\"dataset_new/HIV_train_x_full\",train_x)\n",
    "np.save(\"dataset_new/HIV_train_y_full\",train_y)\n",
    "np.save(\"dataset_new/HIV_valid_x_full\",valid_x)\n",
    "np.save(\"dataset_new/HIV_valid_y_full\",valid_y)\n",
    "np.save(\"dataset_new/HIV_test_x_full\",test_x)\n",
    "np.save(\"dataset_new/HIV_test_y_full\",test_y)\n"
   ]
  }
 ],
 "metadata": {
  "kernelspec": {
   "display_name": "Python 3",
   "language": "python",
   "name": "python3"
  },
  "language_info": {
   "codemirror_mode": {
    "name": "ipython",
    "version": 3
   },
   "file_extension": ".py",
   "mimetype": "text/x-python",
   "name": "python",
   "nbconvert_exporter": "python",
   "pygments_lexer": "ipython3",
   "version": "3.6.12"
  }
 },
 "nbformat": 4,
 "nbformat_minor": 4
}
